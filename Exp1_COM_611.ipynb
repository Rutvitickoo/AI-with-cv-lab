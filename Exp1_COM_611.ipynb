{
  "nbformat": 4,
  "nbformat_minor": 0,
  "metadata": {
    "colab": {
      "provenance": []
    },
    "kernelspec": {
      "name": "python3",
      "display_name": "Python 3"
    },
    "language_info": {
      "name": "python"
    }
  },
  "cells": [
    {
      "cell_type": "code",
      "source": [
        "import csv\n",
        "num_att = 6\n",
        "a = []\n",
        "print(\"The Given Traning Data Set \\n\")\n",
        "with open(r\"Lab1.csv\") as csvfile:\n",
        "  reader=csv.reader(csvfile)\n",
        "  for row in reader:\n",
        "    a.append(row)\n",
        "    print(row)\n",
        "    print(\"The Initial Value of Hypothesis: \")\n",
        "hypothesis=['0']*num_att\n",
        "print(hypothesis)\n",
        "\n",
        "for j in range(0,num_att):\n",
        "  hypothesis[j]= a[0][j]\n",
        "print(\"\\nFind S: Finding a Maximally Specific Hypothesis \\n\")\n",
        "\n",
        "for i in range(0, len(a)):\n",
        "  if a[i][num_att]=='Yes':\n",
        "      for j in range(0, num_att):\n",
        "        if a[i][j]!=hypothesis[j]:\n",
        "          hypothesis[j]='?'\n",
        "        else:\n",
        "          hypothesis[j]=a[i][j]\n",
        "  print(\"For Training Instance No:{0} \\nThe Hypothesis is\".format(i),hypothesis)\n",
        "print(\"\\n\")\n",
        "print(\"The Maximally Specific Hypothesis is:\")\n",
        "print(hypothesis)"
      ],
      "metadata": {
        "id": "2TQs8HxwdVJc",
        "colab": {
          "base_uri": "https://localhost:8080/"
        },
        "outputId": "cef9fa1e-4e1e-4b68-b00f-a894f08ab9b6"
      },
      "execution_count": null,
      "outputs": [
        {
          "output_type": "stream",
          "name": "stdout",
          "text": [
            "The Given Traning Data Set \n",
            "\n",
            "['Sunny', 'Warm', 'Normal', 'Strong', 'Warm', 'Same', 'Yes']\n",
            "The Initial Value of Hypothesis: \n",
            "['Sunny', 'Warm', 'High', 'Strong', 'Warm', 'Same', 'Yes']\n",
            "The Initial Value of Hypothesis: \n",
            "['Rainy', 'Cold', 'High', 'Strong', 'Warm', 'Change', 'No']\n",
            "The Initial Value of Hypothesis: \n",
            "['Sunny', 'Warm', 'High', 'Strong', 'Cool', 'Change', 'Yes']\n",
            "The Initial Value of Hypothesis: \n",
            "['0', '0', '0', '0', '0', '0']\n",
            "\n",
            "Find S: Finding a Maximally Specific Hypothesis \n",
            "\n",
            "For Training Instance No:0 \n",
            "The Hypothesis is ['Sunny', 'Warm', 'Normal', 'Strong', 'Warm', 'Same']\n",
            "For Training Instance No:1 \n",
            "The Hypothesis is ['Sunny', 'Warm', '?', 'Strong', 'Warm', 'Same']\n",
            "For Training Instance No:2 \n",
            "The Hypothesis is ['Sunny', 'Warm', '?', 'Strong', 'Warm', 'Same']\n",
            "For Training Instance No:3 \n",
            "The Hypothesis is ['Sunny', 'Warm', '?', 'Strong', '?', '?']\n",
            "\n",
            "\n",
            "The Maximally Specific Hypothesis is:\n",
            "['Sunny', 'Warm', '?', 'Strong', '?', '?']\n"
          ]
        }
      ]
    },
    {
      "cell_type": "code",
      "source": [],
      "metadata": {
        "colab": {
          "base_uri": "https://localhost:8080/"
        },
        "id": "dRvSio-Fdqz8",
        "outputId": "17992a4b-02af-4297-bc02-4cbb89cc9768"
      },
      "execution_count": null,
      "outputs": [
        {
          "output_type": "stream",
          "name": "stdout",
          "text": [
            "The Given Traning Data Set \n",
            "\n",
            "['Sunny', 'Warm', 'Normal', 'Strong', 'Warm', 'Same', 'Yes']\n",
            "['Sunny', 'Warm', 'High', 'Strong', 'Warm', 'Same', 'Yes']\n",
            "['Rainy', 'Cold', 'High', 'Strong', 'Warm', 'Change', 'No']\n",
            "['Sunny', 'Warm', 'High', 'Strong', 'Cool', 'Change', 'Yes']\n"
          ]
        }
      ]
    },
    {
      "cell_type": "code",
      "source": [],
      "metadata": {
        "colab": {
          "base_uri": "https://localhost:8080/"
        },
        "id": "9lbMi5jmgQRN",
        "outputId": "ecb56688-6784-4dfc-d2e4-99b7ca6193ff"
      },
      "execution_count": null,
      "outputs": [
        {
          "output_type": "stream",
          "name": "stdout",
          "text": [
            "The Initial Value of Hypothesis: \n",
            "['0', '0', '0', '0', '0', '0']\n"
          ]
        }
      ]
    },
    {
      "cell_type": "code",
      "source": [
        "\n"
      ],
      "metadata": {
        "colab": {
          "base_uri": "https://localhost:8080/"
        },
        "id": "E5XbKqW_iQjj",
        "outputId": "70e70726-9ce4-4e94-aea7-48e0fe987644"
      },
      "execution_count": null,
      "outputs": [
        {
          "output_type": "stream",
          "name": "stdout",
          "text": [
            "Find S: Finding a Maximally Specific Hypothesis \n",
            "\n",
            "For Training Instance No:0 \n",
            "The Hypothesis is ['Sunny', 'Warm', '?', 'Strong', '?', '?']\n",
            "For Training Instance No:1 \n",
            "The Hypothesis is ['Sunny', 'Warm', '?', 'Strong', '?', '?']\n",
            "For Training Instance No:2 \n",
            "The Hypothesis is ['Sunny', 'Warm', '?', 'Strong', '?', '?']\n",
            "For Training Instance No:3 \n",
            "The Hypothesis is ['Sunny', 'Warm', '?', 'Strong', '?', '?']\n",
            "\n",
            "\n",
            "The Maximally Specific Hypothesis is:\n",
            "['Sunny', 'Warm', '?', 'Strong', '?', '?']\n"
          ]
        }
      ]
    },
    {
      "cell_type": "code",
      "source": [],
      "metadata": {
        "id": "1ofWDTdFiljc"
      },
      "execution_count": null,
      "outputs": []
    }
  ]
}